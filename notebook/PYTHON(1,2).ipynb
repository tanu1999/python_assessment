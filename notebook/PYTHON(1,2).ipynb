{
 "cells": [
  {
   "attachments": {},
   "cell_type": "markdown",
   "metadata": {},
   "source": [
    "Question 1: -\n",
    "Write a program that takes a string as input, and counts the frequency of each word in the string, there might\n",
    "be repeated characters in the string. Your task is to find the highest frequency and returns the length of the\n",
    "highest-frequency word.\n",
    "Note - You have to write at least 2 additional test cases in which your program will run successfully and provide\n",
    "an explanation for the same.\n",
    "Example input - string = “write write write all the number from from from 1 to 100”\n",
    "Example output - 5\n",
    "Explanation - From the given string we can note that the most frequent words are “write” and “from” and\n",
    "the maximum value of both the values is “write” and its corresponding length is 5"
   ]
  },
  {
   "cell_type": "code",
   "execution_count": 3,
   "metadata": {},
   "outputs": [
    {
     "name": "stdout",
     "output_type": "stream",
     "text": [
      "4\n"
     ]
    }
   ],
   "source": [
    "#first problem python\n",
    "words = input().split()\n",
    "d = {}\n",
    "\n",
    "for word in words:\n",
    "    if word in d:\n",
    "        d[word] += 1\n",
    "    else:\n",
    "        d[word] = 1\n",
    "\n",
    "max_freq = 0\n",
    "max_word_length = 0\n",
    "\n",
    "for word, freq in d.items():\n",
    "    if freq > max_freq:\n",
    "        max_freq = freq\n",
    "        max_word_length = len(word)\n",
    "    elif freq == max_freq and len(word) > max_word_length:\n",
    "        max_word_length = len(word)\n",
    "\n",
    "print(max_word_length)"
   ]
  },
  {
   "attachments": {},
   "cell_type": "markdown",
   "metadata": {},
   "source": [
    "Question 2: -\n",
    "Consider a string to be valid if all characters of the string appear the same number of times. It is also valid if\n",
    "he can remove just one character at the index in the string, and the remaining characters will occur the same\n",
    "number of times. Given a string, determine if it is valid. If so, return YES , otherwise return NO .\n",
    "Note - You have to write at least 2 additional test cases in which your program will run successfully and provide\n",
    "an explanation for the same.\n",
    "Example input 1 - s = “abc”. This is a valid string because frequencies are { “a”: 1, “b”: 1, “c”: 1 }\n",
    "Example output 1- YES\n",
    "Example input 2 - s “abcc”. This string is not valid as we can remove only 1 occurrence of “c”. That leaves\n",
    "character frequencies of { “a”: 1, “b”: 1 , “c”: 2 }\n",
    "Example output 2 - NO"
   ]
  },
  {
   "attachments": {},
   "cell_type": "markdown",
   "metadata": {},
   "source": [
    "input : hari hari harish\n",
    "output : 4\n",
    "here hari is came two times so length of hari is 4\n",
    "\n"
   ]
  },
  {
   "cell_type": "code",
   "execution_count": 4,
   "metadata": {},
   "outputs": [
    {
     "name": "stdout",
     "output_type": "stream",
     "text": [
      "YES\n",
      "YES\n"
     ]
    }
   ],
   "source": [
    "def is_valid_string(s):\n",
    "    char_freq = {}\n",
    "    for char in s:\n",
    "        if char in char_freq:\n",
    "            char_freq[char] += 1\n",
    "        else:\n",
    "            char_freq[char] = 1\n",
    "\n",
    "    freq_count = list(char_freq.values())\n",
    "    freq_set = set(freq_count)\n",
    "\n",
    "    if len(freq_set) == 1:\n",
    "        return \"YES\"\n",
    "\n",
    "    if len(freq_set) > 2:\n",
    "        return \"NO\"\n",
    "\n",
    "    min_freq = min(freq_set)\n",
    "    max_freq = max(freq_set)\n",
    "    min_freq_count = freq_count.count(min_freq)\n",
    "    max_freq_count = freq_count.count(max_freq)\n",
    "\n",
    "    if (min_freq == 1 and min_freq_count == 1) or (max_freq - min_freq == 1 and max_freq_count == 1):\n",
    "        return \"YES\"\n",
    "\n",
    "    return \"NO\"\n",
    "\n",
    "# Example 1\n",
    "s1 = \"abc\"\n",
    "result1 = is_valid_string(s1)\n",
    "print(result1)\n",
    "\n",
    "# Example 2\n",
    "s2 = \"abcc\"\n",
    "result2 = is_valid_string(s2)\n",
    "print(result2)"
   ]
  },
  {
   "attachments": {},
   "cell_type": "markdown",
   "metadata": {},
   "source": [
    "input : abc\n",
    "output: YES\n",
    "here count of a,b,c is 1 so output is 1\n",
    "\n",
    "input : abcc\n",
    "output: YES\n",
    "here count of a,b=1 and count c=2 so remove one c from the string as per problem condition then remaining count is 1."
   ]
  }
 ],
 "metadata": {
  "kernelspec": {
   "display_name": "Python 3",
   "language": "python",
   "name": "python3"
  },
  "language_info": {
   "codemirror_mode": {
    "name": "ipython",
    "version": 3
   },
   "file_extension": ".py",
   "mimetype": "text/x-python",
   "name": "python",
   "nbconvert_exporter": "python",
   "pygments_lexer": "ipython3",
   "version": "3.8.16"
  },
  "orig_nbformat": 4
 },
 "nbformat": 4,
 "nbformat_minor": 2
}
