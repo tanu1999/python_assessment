{
 "cells": [
  {
   "attachments": {},
   "cell_type": "markdown",
   "metadata": {},
   "source": [
    "Q-1. A university wants to understand the relationship between the SAT scores of its applicants and their college GPA. They collect data on 500 students, including their SAT scores (out of 1600) and their college GPA (on a 4.0 scale). They find that the correlation coefficient between SAT scores and college GPA is 0.7. What does this correlation coefficient indicate about the relationship between SAT scores and college GPA?\n",
    "\n",
    "Answer:\n",
    "\n",
    "A correlation coefficient of 0.7 between SAT scores and college GPA indicates a strong positive relationship between these two variables.\n",
    "\n",
    "A correlation coefficient ranges from -1 to +1, where -1 indicates a perfect negative correlation, +1 indicates a perfect positive correlation, and 0 indicates no correlation. In this case, a correlation coefficient of 0.7 suggests a strong positive relationship, meaning that as SAT scores increase, college GPA tends to increase as well.\n",
    "\n",
    "The magnitude of 0.7 indicates a relatively strong correlation, implying that there is a consistent pattern of higher SAT scores being associated with higher college GPAs among the 500 students in the sample. However, it is important to note that correlation does not imply causation. While there is a strong relationship between SAT scores and college GPA, other factors may also influence college performance, and the correlation coefficient alone does not determine causality.\n",
    "\n"
   ]
  },
  {
   "attachments": {},
   "cell_type": "markdown",
   "metadata": {},
   "source": [
    "Q-2. Consider a dataset containing the heights (in centimeters) of 1000 individuals. The mean height is 170 cm with a standard deviation of 10 cm. The dataset is approximately normally distributed, and its skewness is approximately zero. Based on this information, answer the following questions: a. What percentage of individuals in the dataset have heights between 160 cm and 180 cm? b. If we randomly select 100 individuals from the dataset, what is the probability that their average height is greater than 175 cm? c. Assuming the dataset follows a normal distribution, what is the z-score corresponding to a height of 185 cm? d. We know that 5% of the dataset has heights below a certain value. What is the approximate height corresponding to this threshold? e. Calculate the coefficient of variation (CV) for the dataset. f. Calculate the skewness of the dataset and interpret the result.\n",
    "\n",
    "The z-score formula is: z = (x - μ) / σ, where x is the height, μ is the mean height, and σ is the standard deviation.\n",
    "\n",
    "For 160 cm: z1 = (160 - 170) / 10 = -1\n",
    "\n",
    "For 180 cm: z2 = (180 - 170) / 10 = 1\n",
    "\n",
    "Using the standard normal distribution table or a statistical software, we can find the percentage of individuals between -1 and 1 standard deviations from the mean. This corresponds to approximately 68% of the dataset.\n",
    "\n",
    "b. To calculate the probability that the average height of 100 randomly selected individuals is greater than 175 cm, we can use the Central Limit Theorem. The theorem states that the distribution of sample means approaches a normal distribution as the sample size increases, regardless of the shape of the population distribution.\n",
    "\n",
    "Since the population mean is 170 cm and the standard deviation is 10 cm, the mean of the sample means will also be 170 cm, but the standard deviation of the sample means (also known as the standard error) will be the population standard deviation divided by the square root of the sample size, which is 10 / √100 = 1 cm.\n",
    "\n",
    "We can then calculate the z-score for the average height of 175 cm using the formula: z = (x - μ) / σ, where x is the sample mean, μ is the population mean, and σ is the standard error.\n",
    "\n",
    "z = (175 - 170) / 1 = 5\n",
    "\n",
    "Using the standard normal distribution table or a statistical software, we can find the probability that the z-score is greater than 5. This is an extremely small probability, close to zero.\n",
    "\n",
    "c. To calculate the z-score corresponding to a height of 185 cm, we use the same formula: z = (x - μ) / σ. In this case, x is 185 cm, μ is 170 cm, and σ is 10 cm.\n",
    "\n",
    "z = (185 - 170) / 10 = 1.5\n",
    "\n",
    "So the z-score corresponding to a height of 185 cm is 1.5.\n",
    "\n",
    "d. To find the approximate height corresponding to the threshold below which 5% of the dataset falls, we can use the z-score. We need to find the z-score that corresponds to a cumulative probability of 5%.\n",
    "\n",
    "Using the standard normal distribution table or a statistical software, we can find the z-score that corresponds to a cumulative probability of 5%, which is approximately -1.645.\n",
    "\n",
    "Then, we can use the formula: z = (x - μ) / σ to solve for x, where z is -1.645, μ is 170 cm, and σ is 10 cm.\n",
    "\n",
    "-1.645 = (x - 170) / 10\n",
    "\n",
    "Solving for x, we find:\n",
    "\n",
    "x = -1.645 * 10 + 170 = 153.55 cm\n",
    "\n",
    "So the approximate height corresponding to the threshold below which 5% of the dataset falls is 153.55 cm.\n",
    "\n",
    "e. The coefficient of variation (CV) is a measure of relative variability and is calculated as the ratio of the standard deviation to the mean, expressed as a percentage.\n",
    "\n",
    "CV = (σ / μ) * 100\n",
    "\n",
    "In this case, σ is 10 cm and μ is 170 cm.\n",
    "\n",
    "CV = (10 / 170) * 100 ≈ 5.88\n",
    "\n",
    "f. skewness = (3 * (mean - median)) / standard deviation\n",
    "\n",
    "Given the information provided in the question:\n",
    "\n",
    "Mean height: 170 cm Standard deviation: 10 cm Skewness is approximately zero\n",
    "\n"
   ]
  },
  {
   "attachments": {},
   "cell_type": "markdown",
   "metadata": {},
   "source": [
    "Q-3. Consider the ‘Blood Pressure Before’ and ‘Blood Pressure After’ columns from the data and calculate the following https://drive.google.com/file/d/1mCjtYHiX--mMUjicuaP2gH3k-SnFxt8Y/view?usp=share_ a. Measure the dispersion in both and interpret the results. b. Calculate mean and 5% confidence interval and plot it in a graph c. Calculate the Mean absolute deviation and Standard deviation and interpret the results. d. Calculate the correlation coefficient and check the significance of it at 1% level of significance.\n",
    "\n"
   ]
  },
  {
   "cell_type": "code",
   "execution_count": 1,
   "metadata": {},
   "outputs": [
    {
     "name": "stdout",
     "output_type": "stream",
     "text": [
      "   Patient ID   Blood Pressure Before (mmHg)   Blood Pressure After (mmHg)\n",
      "0           1                            130                           120\n",
      "1           2                            142                           135\n",
      "2           3                            120                           118\n",
      "3           4                            135                           127\n",
      "4           5                            148                           140\n"
     ]
    }
   ],
   "source": [
    "import pandas as pd\n",
    "\n",
    "# Load the dataset\n",
    "data_url = \"https://raw.githubusercontent.com/astha1997/hello-world/main/data.csv\"\n",
    "df = pd.read_csv(data_url)\n",
    "\n",
    "# Display the first few rows of the dataset\n",
    "print(df.head())\n"
   ]
  },
  {
   "cell_type": "code",
   "execution_count": 2,
   "metadata": {},
   "outputs": [
    {
     "name": "stdout",
     "output_type": "stream",
     "text": [
      "<class 'pandas.core.frame.DataFrame'>\n",
      "RangeIndex: 100 entries, 0 to 99\n",
      "Data columns (total 3 columns):\n",
      " #   Column                         Non-Null Count  Dtype\n",
      "---  ------                         --------------  -----\n",
      " 0   Patient ID                     100 non-null    int64\n",
      " 1    Blood Pressure Before (mmHg)  100 non-null    int64\n",
      " 2    Blood Pressure After (mmHg)   100 non-null    int64\n",
      "dtypes: int64(3)\n",
      "memory usage: 2.5 KB\n"
     ]
    }
   ],
   "source": [
    "df.info()"
   ]
  },
  {
   "cell_type": "code",
   "execution_count": 3,
   "metadata": {},
   "outputs": [
    {
     "name": "stdout",
     "output_type": "stream",
     "text": [
      "Dispersion (Standard Deviation)\n",
      "Before: 6.598278012275076\n",
      "After: 6.888022102523226\n"
     ]
    }
   ],
   "source": [
    "# Dispersion measures\n",
    "dispersion_before = df[' Blood Pressure Before (mmHg)'].std()  # Standard Deviation\n",
    "dispersion_after = df[' Blood Pressure After (mmHg)'].std()    # Standard Deviation\n",
    "\n",
    "print(\"Dispersion (Standard Deviation)\")\n",
    "print(\"Before:\", dispersion_before)\n",
    "print(\"After:\", dispersion_after)\n"
   ]
  },
  {
   "cell_type": "code",
   "execution_count": 4,
   "metadata": {},
   "outputs": [
    {
     "name": "stdout",
     "output_type": "stream",
     "text": [
      "Index(['Patient ID', ' Blood Pressure Before (mmHg)',\n",
      "       ' Blood Pressure After (mmHg)'],\n",
      "      dtype='object')\n"
     ]
    }
   ],
   "source": [
    "print(df.columns)\n"
   ]
  },
  {
   "attachments": {},
   "cell_type": "markdown",
   "metadata": {},
   "source": [
    "b. Calculate mean and 5% confidence interval:"
   ]
  },
  {
   "cell_type": "code",
   "execution_count": 5,
   "metadata": {},
   "outputs": [
    {
     "name": "stdout",
     "output_type": "stream",
     "text": [
      "Mean and Confidence Interval\n",
      "Before:\n",
      "Mean: 133.91\n",
      "Confidence Interval: (132.6167375095941, 135.2032624904059)\n",
      "After:\n",
      "Mean: 128.36\n",
      "Confidence Interval: (127.00994766790546, 129.71005233209456)\n"
     ]
    }
   ],
   "source": [
    "# Mean and Confidence Interval\n",
    "mean_before = df[' Blood Pressure Before (mmHg)'].mean()\n",
    "mean_after = df[' Blood Pressure After (mmHg)'].mean()\n",
    "\n",
    "n = len(df)  # Sample size\n",
    "critical_value = 1.96  # For a 95% confidence interval\n",
    "\n",
    "se_before = df[' Blood Pressure Before (mmHg)'].std() / (n ** 0.5)  # Standard Error\n",
    "se_after = df[' Blood Pressure After (mmHg)'].std() / (n ** 0.5)  # Standard Error\n",
    "\n",
    "confidence_interval_before = (mean_before - critical_value * se_before, mean_before + critical_value * se_before)\n",
    "confidence_interval_after = (mean_after - critical_value * se_after, mean_after + critical_value * se_after)\n",
    "\n",
    "print(\"Mean and Confidence Interval\")\n",
    "print(\"Before:\")\n",
    "print(\"Mean:\", mean_before)\n",
    "print(\"Confidence Interval:\", confidence_interval_before)\n",
    "print(\"After:\")\n",
    "print(\"Mean:\", mean_after)\n",
    "print(\"Confidence Interval:\", confidence_interval_after)\n"
   ]
  },
  {
   "attachments": {},
   "cell_type": "markdown",
   "metadata": {},
   "source": [
    "c. Calculate the Mean Absolute Deviation (MAD) and Standard Deviation (SD):\n",
    "\n"
   ]
  },
  {
   "cell_type": "code",
   "execution_count": 7,
   "metadata": {},
   "outputs": [
    {
     "name": "stdout",
     "output_type": "stream",
     "text": [
      "Mean Absolute Deviation (MAD)\n",
      "Before: 5.7118\n",
      "After: 7.582199999999998\n",
      "Standard Deviation (SD)\n",
      "Before: 6.598278012275076\n",
      "After: 6.888022102523226\n"
     ]
    },
    {
     "data": {
      "text/plain": [
       "Patient ID                       25.0000\n",
       " Blood Pressure Before (mmHg)     5.7118\n",
       " Blood Pressure After (mmHg)      5.9000\n",
       "dtype: float64"
      ]
     },
     "execution_count": 7,
     "metadata": {},
     "output_type": "execute_result"
    }
   ],
   "source": [
    "# Mean Absolute Deviation (MAD) and Standard Deviation (SD)\n",
    "mad_before = (df[' Blood Pressure Before (mmHg)'] - df[' Blood Pressure Before (mmHg)'] .mean()).abs().mean()\n",
    "mad_after = (df[' Blood Pressure After (mmHg)'] - df[' Blood Pressure Before (mmHg)'] .mean()).abs().mean()\n",
    "\n",
    "print(\"Mean Absolute Deviation (MAD)\")\n",
    "print(\"Before:\", mad_before)\n",
    "print(\"After:\", mad_after)\n",
    "\n",
    "print(\"Standard Deviation (SD)\")\n",
    "print(\"Before:\", dispersion_before)\n",
    "print(\"After:\", dispersion_after)\n",
    "(df - df.mean()).abs().mean()\n",
    "\n"
   ]
  },
  {
   "attachments": {},
   "cell_type": "markdown",
   "metadata": {},
   "source": [
    "d. Calculate the correlation coefficient and check its significance at a 1% level of significance:"
   ]
  },
  {
   "cell_type": "code",
   "execution_count": 10,
   "metadata": {},
   "outputs": [
    {
     "name": "stdout",
     "output_type": "stream",
     "text": [
      "Correlation Coefficient: 0.9779485966556016\n",
      "Significance Test (1% level of significance)\n",
      "t-value: 46.35573256849114\n",
      "p-value: 0.0\n"
     ]
    }
   ],
   "source": [
    "from scipy import stats\n",
    "# Correlation coefficient and significance\n",
    "correlation_coefficient = df[' Blood Pressure Before (mmHg)'].corr(df[' Blood Pressure After (mmHg)'])\n",
    "\n",
    "# Significance test\n",
    "n = len(df)  # Sample size\n",
    "degree_of_freedom = n - 2  # Degrees of freedom\n",
    "alpha = 0.01  # Significance level\n",
    "\n",
    "t_critical = stats.t.ppf(1 - alpha / 2, degree_of_freedom)  # Critical value for t-test\n",
    "standard_error = (1 - correlation_coefficient ** 2) ** 0.5 / (n - 2) ** 0.5  # Standard error\n",
    "\n",
    "t_value = correlation_coefficient / standard_error  # t-value\n",
    "p_value = 2 * (1 - stats.t.cdf(abs(t_value), degree_of_freedom))  # Two-tailed p-value\n",
    "\n",
    "print(\"Correlation Coefficient:\", correlation_coefficient)\n",
    "print(\"Significance Test (1% level of significance)\")\n",
    "print(\"t-value:\", t_value)\n",
    "print(\"p-value:\", p_value)\n"
   ]
  },
  {
   "attachments": {},
   "cell_type": "markdown",
   "metadata": {},
   "source": [
    "Q-4. A group of 20 friends decide to play a game in which they each write a number between 1 and 20 on a slip of paper and put it into a hat. They then draw one slip of paper at random. What is the probability that the number on the slip of paper is a perfect square (i.e., 1, 4, 9, or 16)?\n",
    "\n",
    "Favorable outcomes: There are 4 perfect square numbers between 1 and 20 (1, 4, 9, and 16).\n",
    "\n",
    "Total outcomes: There are 20 slips of paper in the hat, each containing a number from 1 to 20.\n",
    "\n",
    "Therefore, the probability can be calculated as:\n",
    "\n",
    "Probability = Favorable outcomes / Total outcomes\n",
    "\n",
    "Probability = 4 / 20\n",
    "\n",
    "Simplifying, we get:\n",
    "\n",
    "Probability = 1 / 5\n",
    "\n",
    "So, the probability that the number on the slip of paper is a perfect square is 1/5 or 0.2, which is 20%.\n",
    "\n",
    "Q-5. A certain city has two taxi companies: Company A has 80% of the taxis and Company B has 20% of the taxis. Company A's taxis have a 95% success rate for picking up passengers on time, while Company B's taxis have a 90% success rate. If a randomly selected taxi is late, what is the probability that it belongs to Company A?\n",
    "\n",
    "To calculate the probability that a randomly selected late taxi belongs to Company A, we can use Bayes' theorem.\n",
    "\n",
    "Let's define the following events: A: Taxi belongs to Company A B: Taxi is late\n",
    "\n",
    "We are given the following probabilities: P(A) = 0.8 (Company A has 80% of the taxis) P(B|A) = 0.05 (Company A's taxis have a 95% success rate for picking up passengers on time) P(B|not A) = 0.1 (Company B's taxis have a 90% success rate for picking up passengers on time)\n",
    "\n",
    "We want to calculate P(A|B), which is the probability that the taxi belongs to Company A given that it is late.\n",
    "\n",
    "According to Bayes' theorem: P(A|B) = (P(B|A) * P(A)) / P(B)\n",
    "\n",
    "To calculate P(B), we can use the law of total probability: P(B) = P(B|A) * P(A) + P(B|not A) * P(not A)\n",
    "\n",
    "P(not A) = 1 - P(A) (probability that the taxi does not belong to Company A)\n",
    "\n",
    "Now we can substitute the values and calculate the probability: P(B) = (0.05 * 0.8) + (0.1 * 0.2) = 0.04 + 0.02 = 0.06\n",
    "\n",
    "P(A|B) = (0.05 * 0.8) / 0.06 = 0.04 / 0.06 = 2/3 = 0.67\n",
    "\n",
    "Therefore, the probability that a randomly selected late taxi belongs to Company A is 2/3 or approximately 0.67.\n",
    "\n"
   ]
  },
  {
   "attachments": {},
   "cell_type": "markdown",
   "metadata": {},
   "source": [
    "Q-6. A pharmaceutical company is developing a drug that is supposed to reduce blood pressure. They conduct a clinical trial with 100 patients and record their blood pressure before and after taking the drug. The company wants to know if the change in blood pressure follows a normal distribution. https://drive.google.com/file/d/1mCjtYHiX--mMUjicuaP2gH3k-SnFxt8Y/view?usp=share\n",
    "\n"
   ]
  },
  {
   "cell_type": "code",
   "execution_count": 11,
   "metadata": {},
   "outputs": [
    {
     "data": {
      "text/html": [
       "<div>\n",
       "<style scoped>\n",
       "    .dataframe tbody tr th:only-of-type {\n",
       "        vertical-align: middle;\n",
       "    }\n",
       "\n",
       "    .dataframe tbody tr th {\n",
       "        vertical-align: top;\n",
       "    }\n",
       "\n",
       "    .dataframe thead th {\n",
       "        text-align: right;\n",
       "    }\n",
       "</style>\n",
       "<table border=\"1\" class=\"dataframe\">\n",
       "  <thead>\n",
       "    <tr style=\"text-align: right;\">\n",
       "      <th></th>\n",
       "      <th>Patient ID</th>\n",
       "      <th>Blood Pressure Before (mmHg)</th>\n",
       "      <th>Blood Pressure After (mmHg)</th>\n",
       "    </tr>\n",
       "  </thead>\n",
       "  <tbody>\n",
       "    <tr>\n",
       "      <th>0</th>\n",
       "      <td>1</td>\n",
       "      <td>130</td>\n",
       "      <td>120</td>\n",
       "    </tr>\n",
       "    <tr>\n",
       "      <th>1</th>\n",
       "      <td>2</td>\n",
       "      <td>142</td>\n",
       "      <td>135</td>\n",
       "    </tr>\n",
       "    <tr>\n",
       "      <th>2</th>\n",
       "      <td>3</td>\n",
       "      <td>120</td>\n",
       "      <td>118</td>\n",
       "    </tr>\n",
       "    <tr>\n",
       "      <th>3</th>\n",
       "      <td>4</td>\n",
       "      <td>135</td>\n",
       "      <td>127</td>\n",
       "    </tr>\n",
       "    <tr>\n",
       "      <th>4</th>\n",
       "      <td>5</td>\n",
       "      <td>148</td>\n",
       "      <td>140</td>\n",
       "    </tr>\n",
       "    <tr>\n",
       "      <th>...</th>\n",
       "      <td>...</td>\n",
       "      <td>...</td>\n",
       "      <td>...</td>\n",
       "    </tr>\n",
       "    <tr>\n",
       "      <th>95</th>\n",
       "      <td>96</td>\n",
       "      <td>136</td>\n",
       "      <td>129</td>\n",
       "    </tr>\n",
       "    <tr>\n",
       "      <th>96</th>\n",
       "      <td>97</td>\n",
       "      <td>143</td>\n",
       "      <td>137</td>\n",
       "    </tr>\n",
       "    <tr>\n",
       "      <th>97</th>\n",
       "      <td>98</td>\n",
       "      <td>127</td>\n",
       "      <td>123</td>\n",
       "    </tr>\n",
       "    <tr>\n",
       "      <th>98</th>\n",
       "      <td>99</td>\n",
       "      <td>139</td>\n",
       "      <td>135</td>\n",
       "    </tr>\n",
       "    <tr>\n",
       "      <th>99</th>\n",
       "      <td>100</td>\n",
       "      <td>135</td>\n",
       "      <td>130</td>\n",
       "    </tr>\n",
       "  </tbody>\n",
       "</table>\n",
       "<p>100 rows × 3 columns</p>\n",
       "</div>"
      ],
      "text/plain": [
       "    Patient ID   Blood Pressure Before (mmHg)   Blood Pressure After (mmHg)\n",
       "0            1                            130                           120\n",
       "1            2                            142                           135\n",
       "2            3                            120                           118\n",
       "3            4                            135                           127\n",
       "4            5                            148                           140\n",
       "..         ...                            ...                           ...\n",
       "95          96                            136                           129\n",
       "96          97                            143                           137\n",
       "97          98                            127                           123\n",
       "98          99                            139                           135\n",
       "99         100                            135                           130\n",
       "\n",
       "[100 rows x 3 columns]"
      ]
     },
     "execution_count": 11,
     "metadata": {},
     "output_type": "execute_result"
    }
   ],
   "source": [
    "import pandas as pd\n",
    "from scipy import stats\n",
    "data_url = 'https://raw.githubusercontent.com/astha1997/hello-world/main/data.csv'\n",
    "data = pd.read_csv(data_url)\n",
    "data\n"
   ]
  },
  {
   "cell_type": "code",
   "execution_count": 12,
   "metadata": {},
   "outputs": [],
   "source": [
    "change_in_bp = data[' Blood Pressure After (mmHg)'] - data[' Blood Pressure Before (mmHg)']\n"
   ]
  },
  {
   "cell_type": "code",
   "execution_count": 13,
   "metadata": {},
   "outputs": [],
   "source": [
    "statistic, p_value = stats.shapiro(change_in_bp)\n"
   ]
  },
  {
   "cell_type": "code",
   "execution_count": 14,
   "metadata": {},
   "outputs": [
    {
     "name": "stdout",
     "output_type": "stream",
     "text": [
      "The change in blood pressure does not follow a normal distribution (reject the null hypothesis)\n"
     ]
    }
   ],
   "source": [
    "alpha = 0.05  # Significance level\n",
    "\n",
    "if p_value > alpha:\n",
    "    print(\"The change in blood pressure follows a normal distribution (fail to reject the null hypothesis)\")\n",
    "else:\n",
    "    print(\"The change in blood pressure does not follow a normal distribution (reject the null hypothesis)\")\n"
   ]
  },
  {
   "cell_type": "code",
   "execution_count": 15,
   "metadata": {},
   "outputs": [
    {
     "data": {
      "text/plain": [
       "0.0014939684187993407"
      ]
     },
     "execution_count": 15,
     "metadata": {},
     "output_type": "execute_result"
    }
   ],
   "source": [
    "p_value"
   ]
  },
  {
   "attachments": {},
   "cell_type": "markdown",
   "metadata": {},
   "source": [
    "Q-7. The equations of two lines of regression, obtained in a correlation analysis between variables X and Y are as follows: and . 2𝑋 + 3 − 8 = 0 2𝑌 + 𝑋 − 5 = 0 The variance of 𝑋 = 4 Find the a. Variance of Y b. Coefficient of determination of C and Y c. Standard error of estimate of X on Y and of Y on X.\n",
    "\n",
    "\n",
    "To calculate the variance of Y, coefficient of determination (R^2), and the standard error of estimate,\n",
    "we can use the equations provided and the given variance of X. Here are the steps to calculate each value:\n",
    "\n",
    "a. Variance of Y:\n",
    "From the equation 2Y + X - 5 = 0\n",
    "2Y = -X + 5\n",
    "Y = (-X + 5)/2\n",
    "\n",
    "To calculate the variance of Y, we need to substitute the variance of X into the equation. Given that the variance of X is 4, we have:\n",
    "Variance of Y = (1/4) * Variance of X\n",
    "Variance of Y = (1/4) * 4\n",
    "Variance of Y = 1\n",
    "\n",
    "Therefore, the variance of Y is 1.\n",
    "\n",
    "b. Coefficient of determination (R^2):\n",
    "The coefficient of determination (R^2) represents the proportion of the variance in Y that can be explained by the regression line.\n",
    "In this case, we have two regression lines, so we need to calculate R^2 for each line.\n",
    "\n",
    "For the line 2X + 3 - 8 = 0:\n",
    "R^2 = (Variance of X - Variance of Error in X)/(Variance of X)\n",
    "= (4 - 0)/(4)\n",
    "= 1\n",
    "\n",
    "For the line 2Y + X - 5 = 0:\n",
    "R^2 = (Variance of Y - Variance of Error in Y)/(Variance of Y)\n",
    "= (1 - 0)/(1)\n",
    "= 1\n",
    "\n",
    "Therefore, the coefficient of determination (R^2) for both X and Y is 1.\n",
    "\n",
    "c. Standard error of estimate:\n",
    "The standard error of estimate measures the average distance between the predicted values of Y (based on the regression line) and the actual observed values of Y.\n",
    "We need to calculate the standard error of estimate for X on Y and Y on X.\n",
    "\n",
    "For X on Y:\n",
    "Standard error of estimate of X on Y = (Variance of Error in X)^(1/2)\n",
    "= (0)^(1/2)\n",
    "= 0\n",
    "\n",
    "For Y on X:\n",
    "Standard error of estimate of Y on X = (Variance of Error in Y)^(1/2)\n",
    "= (0)^(1/2)\n",
    "= 0\n",
    "\n",
    "Therefore, the standard error of estimate of X on Y and Y on X is 0.\n",
    "\n",
    "\n"
   ]
  },
  {
   "attachments": {},
   "cell_type": "markdown",
   "metadata": {},
   "source": [
    "Q-8. The anxiety levels of 10 participants were measured before and after a new therapy. The scores are not normally distributed. Use the Wilcoxon signed-rank test to test whether the therapy had a significant effect on anxiety levels. The data is given below: Participant Before therapy After therapy Difference\n",
    "\n",
    "Participant Before therapy After therapy Difference 1 10 7 -3 2 8 6 -2 3 12 10 -2 4 15 12 -3 5 6 5 -1 6 9 8 -1 7 11 9 -2 8 7 6 -1 9 14 12 -2 10 10 8 -2"
   ]
  },
  {
   "cell_type": "code",
   "execution_count": 16,
   "metadata": {},
   "outputs": [
    {
     "name": "stdout",
     "output_type": "stream",
     "text": [
      "Wilcoxon signed-rank test:\n",
      "Test statistic: 0.0\n",
      "p-value: 0.001953125\n"
     ]
    }
   ],
   "source": [
    "import scipy.stats as stats\n",
    "\n",
    "# Data\n",
    "before_therapy = [10, 8, 12, 15, 6, 9, 11, 7, 14, 10]\n",
    "after_therapy = [7, 6, 10, 12, 5, 8, 9, 6, 12, 8]\n",
    "difference = [-3, -2, -2, -3, -1, -1, -2, -1, -2, -2]\n",
    "\n",
    "# Perform Wilcoxon signed-rank test\n",
    "statistic, p_value = stats.wilcoxon(difference)\n",
    "\n",
    "# Print the results\n",
    "print(\"Wilcoxon signed-rank test:\")\n",
    "print(\"Test statistic:\", statistic)\n",
    "print(\"p-value:\", p_value)\n"
   ]
  },
  {
   "attachments": {},
   "cell_type": "markdown",
   "metadata": {},
   "source": [
    "Que:9 Name Exam 1 Exam 2 Final Exam Karan 85 90 92 Deepa 70 80 85 Karthik 90 85 88 Chandan 75 70 75 Jeevan 95 92 96\n",
    "\n",
    "Test the hypothesis that the mean scores of all the students are the same. If not, name the student with the highest score.\n",
    "\n"
   ]
  },
  {
   "cell_type": "code",
   "execution_count": 17,
   "metadata": {},
   "outputs": [
    {
     "name": "stdout",
     "output_type": "stream",
     "text": [
      "ANOVA test:\n",
      "F-statistic: 0.3236947791164659\n",
      "p-value: 0.7295954253321558\n"
     ]
    }
   ],
   "source": [
    "import pandas as pd\n",
    "import scipy.stats as stats\n",
    "\n",
    "# Data\n",
    "data = {\n",
    "    'Name': ['Karan', 'Deepa', 'Karthik', 'Chandan', 'Jeevan'],\n",
    "    'Exam 1': [85, 70, 90, 75, 95],\n",
    "    'Exam 2': [90, 80, 85, 70, 92],\n",
    "    'Final Exam': [92, 85, 88, 75, 96]\n",
    "}\n",
    "\n",
    "df = pd.DataFrame(data)\n",
    "\n",
    "# Perform ANOVA test\n",
    "f_statistic, p_value = stats.f_oneway(df['Exam 1'], df['Exam 2'], df['Final Exam'])\n",
    "\n",
    "# Print the results\n",
    "print(\"ANOVA test:\")\n",
    "print(\"F-statistic:\", f_statistic)\n",
    "print(\"p-value:\", p_value)\n"
   ]
  },
  {
   "attachments": {},
   "cell_type": "markdown",
   "metadata": {},
   "source": [
    "Q-10. A factory produces light bulbs, and the probability of a bulb being defective is 0.05. The factory produces a large batch of 500 light bulbs. a. What is the probability that exactly 20 bulbs are defective? b. What is the probability that at least 10 bulbs are defective? c. What is the probability that at max 15 bulbs are defective? d. On average, how many defective bulbs would you expect in a batch of 500?\n",
    "\n"
   ]
  },
  {
   "cell_type": "code",
   "execution_count": 18,
   "metadata": {},
   "outputs": [
    {
     "name": "stdout",
     "output_type": "stream",
     "text": [
      "a. Probability that exactly 20 bulbs are defective: 0.051616192536641056\n",
      "b. Probability that at least 10 bulbs are defective: 0.9998316463654898\n",
      "c. Probability that at max 15 bulbs are defective: 0.019858377163006653\n",
      "d. Expected number of defective bulbs: 25.0\n"
     ]
    }
   ],
   "source": [
    "from scipy.stats import binom\n",
    "\n",
    "# Total number of bulbs\n",
    "n = 500\n",
    "\n",
    "# Probability of a bulb being defective\n",
    "p = 0.05\n",
    "\n",
    "# a. Probability that exactly 20 bulbs are defective\n",
    "k = 20\n",
    "prob_20_defective = binom.pmf(k, n, p)\n",
    "\n",
    "# b. Probability that at least 10 bulbs are defective\n",
    "k_values = range(10, n+1)\n",
    "prob_at_least_10_defective = sum(binom.pmf(k, n, p) for k in k_values)\n",
    "\n",
    "# c. Probability that at max 15 bulbs are defective\n",
    "k_values = range(0, 16)\n",
    "prob_at_most_15_defective = sum(binom.pmf(k, n, p) for k in k_values)\n",
    "\n",
    "# d. Expected number of defective bulbs\n",
    "expected_defective_bulbs = n * p\n",
    "\n",
    "# Print the results\n",
    "print(\"a. Probability that exactly 20 bulbs are defective:\", prob_20_defective)\n",
    "print(\"b. Probability that at least 10 bulbs are defective:\", prob_at_least_10_defective)\n",
    "print(\"c. Probability that at max 15 bulbs are defective:\", prob_at_most_15_defective)\n",
    "print(\"d. Expected number of defective bulbs:\", expected_defective_bulbs)\n"
   ]
  },
  {
   "attachments": {},
   "cell_type": "markdown",
   "metadata": {},
   "source": [
    "Q-11. Given the data of a feature contributing to different classes https://drive.google.com/file/d/1mCjtYHiX--mMUjicuaP2gH3k-SnFxt8Y/view?usp =share_ a. Check whether the distribution of all the classes are the same or not. b. Check for the equality of variance/ c. Which amount LDA and QDA would perform better on this data for classification and why. d. Check the equality of mean for between all the classes.\n",
    "\n"
   ]
  },
  {
   "cell_type": "code",
   "execution_count": 21,
   "metadata": {},
   "outputs": [
    {
     "data": {
      "text/html": [
       "<div>\n",
       "<style scoped>\n",
       "    .dataframe tbody tr th:only-of-type {\n",
       "        vertical-align: middle;\n",
       "    }\n",
       "\n",
       "    .dataframe tbody tr th {\n",
       "        vertical-align: top;\n",
       "    }\n",
       "\n",
       "    .dataframe thead th {\n",
       "        text-align: right;\n",
       "    }\n",
       "</style>\n",
       "<table border=\"1\" class=\"dataframe\">\n",
       "  <thead>\n",
       "    <tr style=\"text-align: right;\">\n",
       "      <th></th>\n",
       "      <th>Patient ID</th>\n",
       "      <th>Blood Pressure Before (mmHg)</th>\n",
       "      <th>Blood Pressure After (mmHg)</th>\n",
       "    </tr>\n",
       "  </thead>\n",
       "  <tbody>\n",
       "    <tr>\n",
       "      <th>0</th>\n",
       "      <td>1</td>\n",
       "      <td>130</td>\n",
       "      <td>120</td>\n",
       "    </tr>\n",
       "    <tr>\n",
       "      <th>1</th>\n",
       "      <td>2</td>\n",
       "      <td>142</td>\n",
       "      <td>135</td>\n",
       "    </tr>\n",
       "    <tr>\n",
       "      <th>2</th>\n",
       "      <td>3</td>\n",
       "      <td>120</td>\n",
       "      <td>118</td>\n",
       "    </tr>\n",
       "    <tr>\n",
       "      <th>3</th>\n",
       "      <td>4</td>\n",
       "      <td>135</td>\n",
       "      <td>127</td>\n",
       "    </tr>\n",
       "    <tr>\n",
       "      <th>4</th>\n",
       "      <td>5</td>\n",
       "      <td>148</td>\n",
       "      <td>140</td>\n",
       "    </tr>\n",
       "    <tr>\n",
       "      <th>...</th>\n",
       "      <td>...</td>\n",
       "      <td>...</td>\n",
       "      <td>...</td>\n",
       "    </tr>\n",
       "    <tr>\n",
       "      <th>95</th>\n",
       "      <td>96</td>\n",
       "      <td>136</td>\n",
       "      <td>129</td>\n",
       "    </tr>\n",
       "    <tr>\n",
       "      <th>96</th>\n",
       "      <td>97</td>\n",
       "      <td>143</td>\n",
       "      <td>137</td>\n",
       "    </tr>\n",
       "    <tr>\n",
       "      <th>97</th>\n",
       "      <td>98</td>\n",
       "      <td>127</td>\n",
       "      <td>123</td>\n",
       "    </tr>\n",
       "    <tr>\n",
       "      <th>98</th>\n",
       "      <td>99</td>\n",
       "      <td>139</td>\n",
       "      <td>135</td>\n",
       "    </tr>\n",
       "    <tr>\n",
       "      <th>99</th>\n",
       "      <td>100</td>\n",
       "      <td>135</td>\n",
       "      <td>130</td>\n",
       "    </tr>\n",
       "  </tbody>\n",
       "</table>\n",
       "<p>100 rows × 3 columns</p>\n",
       "</div>"
      ],
      "text/plain": [
       "    Patient ID   Blood Pressure Before (mmHg)   Blood Pressure After (mmHg)\n",
       "0            1                            130                           120\n",
       "1            2                            142                           135\n",
       "2            3                            120                           118\n",
       "3            4                            135                           127\n",
       "4            5                            148                           140\n",
       "..         ...                            ...                           ...\n",
       "95          96                            136                           129\n",
       "96          97                            143                           137\n",
       "97          98                            127                           123\n",
       "98          99                            139                           135\n",
       "99         100                            135                           130\n",
       "\n",
       "[100 rows x 3 columns]"
      ]
     },
     "execution_count": 21,
     "metadata": {},
     "output_type": "execute_result"
    }
   ],
   "source": [
    "import pandas as pd\n",
    "from scipy.stats import f_oneway, bartlett\n",
    "from sklearn.discriminant_analysis import LinearDiscriminantAnalysis, QuadraticDiscriminantAnalysis\n",
    "\n",
    "# Load the dataset\n",
    "url = \"https://raw.githubusercontent.com/astha1997/hello-world/main/data.csv\"\n",
    "df = pd.read_csv(url)\n",
    "df"
   ]
  },
  {
   "cell_type": "code",
   "execution_count": 22,
   "metadata": {},
   "outputs": [
    {
     "name": "stdout",
     "output_type": "stream",
     "text": [
      "The distribution of classes is not the same.\n"
     ]
    }
   ],
   "source": [
    "# a. Check whether the distribution of all the classes are the same or not\n",
    "anova_result = f_oneway(df[' Blood Pressure Before (mmHg)'], df[' Blood Pressure After (mmHg)'])\n",
    "if anova_result.pvalue < 0.05:\n",
    "    print(\"The distribution of classes is not the same.\")\n",
    "else:\n",
    "    print(\"The distribution of classes is the same.\")\n"
   ]
  },
  {
   "cell_type": "code",
   "execution_count": 23,
   "metadata": {},
   "outputs": [
    {
     "name": "stdout",
     "output_type": "stream",
     "text": [
      "The variances are equal.\n"
     ]
    }
   ],
   "source": [
    "# b. Check for the equality of variance\n",
    "bartlett_result = bartlett(df[' Blood Pressure Before (mmHg)'], df[' Blood Pressure After (mmHg)'])\n",
    "if bartlett_result.pvalue < 0.05:\n",
    "    print(\"The variances are not equal.\")\n",
    "else:\n",
    "    print(\"The variances are equal.\")\n"
   ]
  },
  {
   "cell_type": "code",
   "execution_count": 24,
   "metadata": {},
   "outputs": [
    {
     "name": "stdout",
     "output_type": "stream",
     "text": [
      "The means are not equal for all classes.\n"
     ]
    }
   ],
   "source": [
    "# d. Check the equality of mean for between all the classes\n",
    "class_a_mean = df[' Blood Pressure Before (mmHg)'].mean()\n",
    "class_b_mean = df[' Blood Pressure After (mmHg)'].mean()\n",
    "\n",
    "\n",
    "if class_a_mean == class_b_mean :\n",
    "    print(\"The means are equal for all classes.\")\n",
    "else:\n",
    "    print(\"The means are not equal for all classes.\")\n"
   ]
  },
  {
   "attachments": {},
   "cell_type": "markdown",
   "metadata": {},
   "source": [
    "Q-12. A pharmaceutical company develops a new drug and wants to compare its effectiveness against a standard drug for treating a particular condition. They conduct a study with two groups: Group A receives the new drug, and Group B receives the standard drug. The company measures the improvement in a specific symptom for both groups after a 4-week treatment period. a. The company collects data from 30 patients in each group and calculates the mean improvement score and the standard deviation of improvement for each group. The mean improvement score for Group A is 2.5 with a standard deviation of 0.8, while the mean improvement score for Group B is 2.2 with a standard deviation of 0.6. Conduct a t-test to determine if there is a significant difference in the mean improvement scores between the two groups. Use a significance level of 0.05. b. Based on the t-test results, state whether the null hypothesis should be rejected or not. Provide a conclusion in the context of the study.\n",
    "\n",
    "To conduct a t-test and determine if there is a significant difference in the mean improvement scores between Group A and Group B, we can follow these steps:\n",
    "\n",
    "a. Set up the hypotheses:\n",
    "\n",
    "Null hypothesis (H0): The mean improvement scores of Group A and Group B are equal. Alternative hypothesis (Ha): The mean improvement scores of Group A and Group B are not equal. b. Define the significance level: The significance level is given as 0.05.\n",
    "\n",
    "c. Perform the t-test: We can use the independent samples t-test to compare the means of two independent groups. In this case, Group A and Group B are independent groups. The t-test formula is as follows:\n",
    "\n",
    "t = (mean_A - mean_B) / sqrt((squared_deviation_A / n_A) + (squared_deviation_B / n_B))\n",
    "\n",
    "where: mean_A and mean_B are the means of Group A and Group B, respectively. squared_deviation_A and squared_deviation_B are the squared standard deviations of Group A and Group B, respectively. n_A and n_B are the sample sizes of Group A and Group B, respectively.\n",
    "\n",
    "Let's perform the t-test using the provided values:\n",
    "\n"
   ]
  },
  {
   "cell_type": "code",
   "execution_count": 25,
   "metadata": {},
   "outputs": [
    {
     "name": "stdout",
     "output_type": "stream",
     "text": [
      "Fail to reject the null hypothesis.\n",
      "There is no significant difference in the mean improvement scores between Group A and Group B.\n"
     ]
    }
   ],
   "source": [
    "import scipy.stats as stats\n",
    "\n",
    "mean_A = 2.5\n",
    "std_deviation_A = 0.8\n",
    "n_A = 30\n",
    "\n",
    "mean_B = 2.2\n",
    "std_deviation_B = 0.6\n",
    "n_B = 30\n",
    "\n",
    "# Calculate the t-value and p-value\n",
    "t_value, p_value = stats.ttest_ind_from_stats(mean_A, std_deviation_A, n_A, mean_B, std_deviation_B, n_B)\n",
    "\n",
    "# Compare the p-value with the significance level\n",
    "significance_level = 0.05\n",
    "if p_value < significance_level:\n",
    "    print(\"Reject the null hypothesis.\")\n",
    "else:\n",
    "    print(\"Fail to reject the null hypothesis.\")\n",
    "\n",
    "# Provide a conclusion\n",
    "if p_value < significance_level:\n",
    "    print(\"There is a significant difference in the mean improvement scores between Group A and Group B.\")\n",
    "else:\n",
    "    print(\"There is no significant difference in the mean improvement scores between Group A and Group B.\")\n"
   ]
  },
  {
   "attachments": {},
   "cell_type": "markdown",
   "metadata": {},
   "source": [
    "b. Based on the t-test results:\n",
    "\n",
    "If the p-value is less than the significance level (0.05 in this case), we reject the null hypothesis. If the p-value is greater than or equal to the significance level, we fail to reject the null hypothesis. In the context of the study, if we reject the null hypothesis, it suggests that there is a significant difference in the mean improvement scores between Group A and Group B. On the other hand, if we fail to reject the null hypothesis, it indicates that there is no significant difference in the mean improvement scores between the two groups."
   ]
  }
 ],
 "metadata": {
  "kernelspec": {
   "display_name": "Python 3",
   "language": "python",
   "name": "python3"
  },
  "language_info": {
   "codemirror_mode": {
    "name": "ipython",
    "version": 3
   },
   "file_extension": ".py",
   "mimetype": "text/x-python",
   "name": "python",
   "nbconvert_exporter": "python",
   "pygments_lexer": "ipython3",
   "version": "3.8.16"
  },
  "orig_nbformat": 4
 },
 "nbformat": 4,
 "nbformat_minor": 2
}
